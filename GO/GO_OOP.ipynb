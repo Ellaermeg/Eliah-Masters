{
 "cells": [
  {
   "cell_type": "code",
   "execution_count": null,
   "metadata": {},
   "outputs": [],
   "source": [
    "import sys\n",
    "sys.path.append('../Data_Feature')\n",
    "sys.path.append('../Datasets')\n",
    "print(sys.path)\n",
    "import numpy as np\n",
    "import os\n",
    "import seaborn as sns\n",
    "from scipy.stats import pearsonr\n",
    "import pandas as pd\n",
    "import matplotlib.pyplot as plt\n",
    "import matplotlib.transforms as transforms\n",
    "from sklearn.linear_model import LogisticRegression, LinearRegression\n",
    "from sklearn.svm import SVC\n",
    "from sklearn.ensemble import RandomForestClassifier\n",
    "from sklearn.model_selection import train_test_split, cross_val_score, GridSearchCV, StratifiedKFold\n",
    "from sklearn.naive_bayes import MultinomialNB, GaussianNB, BernoulliNB # or GaussianNB if your data is normalized and continuous\n",
    "from sklearn.metrics import accuracy_score, confusion_matrix, classification_report, precision_score, recall_score, f1_score, ConfusionMatrixDisplay, make_scorer, matthews_corrcoef\n",
    "from sklearn.feature_selection import VarianceThreshold, SelectKBest, f_classif\n",
    "from sklearn.pipeline import Pipeline\n",
    "from sklearn.preprocessing import LabelEncoder \n",
    "from sklearn.preprocessing import MinMaxScaler\n",
    "from sklearn.utils import resample\n",
    "import zipfile \n",
    "from bioservices import KEGG\n",
    "from K_func import translate_ko_terms\n",
    "from Object_oriented_dataprocess import DataProcessor, KOProcessor, ModelPipeline\n",
    "from pathlib import Path\n",
    "\n",
    "zip_path = Path('../Datasets/terms_GO.zip').resolve()\n",
    "zip_path1 = Path('../Datasets/reducedDataset.zip').resolve()\n",
    "\n",
    "for i in zip_path, zip_path1:\n",
    "    if i.exists():\n",
    "        print(f\"Found zip file at: {i}\")\n",
    "    else:\n",
    "        print(f\"Zip file not found at: {i}\")\n"
   ]
  }
 ],
 "metadata": {
  "language_info": {
   "name": "python"
  }
 },
 "nbformat": 4,
 "nbformat_minor": 2
}
