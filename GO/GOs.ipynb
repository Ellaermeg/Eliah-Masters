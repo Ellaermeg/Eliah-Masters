{
 "cells": [
  {
   "cell_type": "code",
   "execution_count": 1,
   "id": "6c9589ae-4e09-4db5-ab9a-3c75c48785c5",
   "metadata": {
    "tags": []
   },
   "outputs": [
    {
     "name": "stdout",
     "output_type": "stream",
     "text": [
      "['c:\\\\Users\\\\eliah\\\\Documents\\\\Master\\\\Eliah-Masters\\\\GO', 'C:\\\\Program Files\\\\WindowsApps\\\\PythonSoftwareFoundation.Python.3.12_3.12.1008.0_x64__qbz5n2kfra8p0\\\\python312.zip', 'C:\\\\Program Files\\\\WindowsApps\\\\PythonSoftwareFoundation.Python.3.12_3.12.1008.0_x64__qbz5n2kfra8p0\\\\DLLs', 'C:\\\\Program Files\\\\WindowsApps\\\\PythonSoftwareFoundation.Python.3.12_3.12.1008.0_x64__qbz5n2kfra8p0\\\\Lib', 'C:\\\\Program Files\\\\WindowsApps\\\\PythonSoftwareFoundation.Python.3.12_3.12.1008.0_x64__qbz5n2kfra8p0', '', 'C:\\\\Users\\\\eliah\\\\AppData\\\\Local\\\\Packages\\\\PythonSoftwareFoundation.Python.3.12_qbz5n2kfra8p0\\\\LocalCache\\\\local-packages\\\\Python312\\\\site-packages', 'C:\\\\Users\\\\eliah\\\\AppData\\\\Local\\\\Packages\\\\PythonSoftwareFoundation.Python.3.12_qbz5n2kfra8p0\\\\LocalCache\\\\local-packages\\\\Python312\\\\site-packages\\\\win32', 'C:\\\\Users\\\\eliah\\\\AppData\\\\Local\\\\Packages\\\\PythonSoftwareFoundation.Python.3.12_qbz5n2kfra8p0\\\\LocalCache\\\\local-packages\\\\Python312\\\\site-packages\\\\win32\\\\lib', 'C:\\\\Users\\\\eliah\\\\AppData\\\\Local\\\\Packages\\\\PythonSoftwareFoundation.Python.3.12_qbz5n2kfra8p0\\\\LocalCache\\\\local-packages\\\\Python312\\\\site-packages\\\\Pythonwin', 'C:\\\\Program Files\\\\WindowsApps\\\\PythonSoftwareFoundation.Python.3.12_3.12.1008.0_x64__qbz5n2kfra8p0\\\\Lib\\\\site-packages', '../Data_Feature', '../Datasets']\n"
     ]
    }
   ],
   "source": [
    "import sys\n",
    "sys.path.append('../Data_Feature')\n",
    "sys.path.append('../Datasets')\n",
    "print(sys.path)\n",
    "import numpy as np\n",
    "import os\n",
    "import seaborn as sns\n",
    "from scipy.stats import pearsonr\n",
    "import pandas as pd\n",
    "import matplotlib.pyplot as plt\n",
    "import matplotlib.transforms as transforms\n",
    "from sklearn.linear_model import LogisticRegression, LinearRegression\n",
    "from sklearn.svm import SVC\n",
    "from sklearn.ensemble import RandomForestClassifier\n",
    "from sklearn.model_selection import train_test_split, cross_val_score, GridSearchCV, StratifiedKFold\n",
    "from sklearn.naive_bayes import MultinomialNB, GaussianNB, BernoulliNB # or GaussianNB if your data is normalized and continuous\n",
    "from sklearn.metrics import accuracy_score, confusion_matrix, classification_report, precision_score, recall_score, f1_score, ConfusionMatrixDisplay, make_scorer, matthews_corrcoef\n",
    "from sklearn.feature_selection import VarianceThreshold, SelectKBest, f_classif\n",
    "from sklearn.pipeline import Pipeline\n",
    "from sklearn.preprocessing import LabelEncoder \n",
    "from sklearn.preprocessing import MinMaxScaler\n",
    "from sklearn.utils import resample\n",
    "import zipfile \n",
    "from bioservices import KEGG\n",
    "from K_func import translate_ko_terms"
   ]
  },
  {
   "cell_type": "code",
   "execution_count": 5,
   "id": "2754c2fa-980d-4ce7-84c0-73a151ba9eca",
   "metadata": {
    "tags": []
   },
   "outputs": [
    {
     "name": "stdout",
     "output_type": "stream",
     "text": [
      "GO   GO:0000001  GO:0000002  GO:0000003  GO:0000006  GO:0000009  GO:0000011  \\\n",
      "key                                                                           \n",
      "1           0.0         0.0         1.0         0.0         0.0         0.0   \n",
      "2           0.0         0.0         1.0         0.0         0.0         0.0   \n",
      "3           0.0         0.0         0.0         0.0         0.0         0.0   \n",
      "4           0.0         0.0         0.0         0.0         0.0         0.0   \n",
      "5           0.0         0.0         1.0         0.0         0.0         0.0   \n",
      "\n",
      "GO   GO:0000012  GO:0000014  GO:0000015  GO:0000018  ...  GO:2001269  \\\n",
      "key                                                  ...               \n",
      "1           0.0         0.0         0.0         0.0  ...         0.0   \n",
      "2           0.0         0.0         0.0         0.0  ...         0.0   \n",
      "3           0.0         0.0         0.0         0.0  ...         0.0   \n",
      "4           0.0         0.0         0.0         0.0  ...         0.0   \n",
      "5           0.0         0.0         0.0         0.0  ...         0.0   \n",
      "\n",
      "GO   GO:2001273  GO:2001275  GO:2001279  GO:2001280  GO:2001289  GO:2001300  \\\n",
      "key                                                                           \n",
      "1           0.0         0.0         0.0         0.0         0.0         0.0   \n",
      "2           0.0         0.0         0.0         0.0         0.0         0.0   \n",
      "3           0.0         0.0         0.0         0.0         0.0         0.0   \n",
      "4           0.0         0.0         0.0         0.0         0.0         0.0   \n",
      "5           0.0         0.0         0.0         0.0         0.0         0.0   \n",
      "\n",
      "GO   GO:2001301  GO:2001313  GO:2001315  \n",
      "key                                      \n",
      "1           0.0         0.0         0.0  \n",
      "2           0.0         0.0         0.0  \n",
      "3           0.0         0.0         0.0  \n",
      "4           0.0         0.0         0.0  \n",
      "5           0.0         0.0         0.0  \n",
      "\n",
      "[5 rows x 14002 columns]\n",
      "0       facultative\n",
      "1         anaerobic\n",
      "2           aerobic\n",
      "3           aerobic\n",
      "4         anaerobic\n",
      "           ...     \n",
      "3404        aerobic\n",
      "3405    facultative\n",
      "3406        aerobic\n",
      "3407    facultative\n",
      "3408        aerobic\n",
      "Name: oxygen, Length: 3409, dtype: object\n"
     ]
    }
   ],
   "source": [
    "# Reads and processes GO terms\n",
    "os.chdir(\"../Datasets\")\n",
    "zip_file_path_GO = 'terms_GO.zip'\n",
    "csv_file_name_GO = 'terms_GO.csv'\n",
    "zip_file_path_traits = 'reducedDataset.zip'\n",
    "csv_file_name_traits = 'reducedDataset.csv'\n",
    "\n",
    "# Read and preprocess KO terms\n",
    "with zipfile.ZipFile(zip_file_path_GO, 'r') as zip_ref:\n",
    "    with zip_ref.open(csv_file_name_GO) as file:\n",
    "        GOs = pd.read_csv(file, index_col=0)\n",
    "\n",
    "\n",
    "GOs['value'] = 1\n",
    "X = GOs.pivot_table(index= 'key', columns='GO', values='value', fill_value=0)\n",
    "print(X.head())\n",
    "\n",
    "\n",
    "# Read and preprocess traits data\n",
    "with zipfile.ZipFile(zip_file_path_traits, 'r') as zip_ref:\n",
    "    with zip_ref.open(csv_file_name_traits) as file:\n",
    "        traits = pd.read_csv(file, sep=';')\n",
    "traits['oxygen'] = traits['oxygen'].str.lower()\n",
    "\n",
    "print(traits[\"oxygen\"])\n"
   ]
  }
 ],
 "metadata": {
  "kernelspec": {
   "display_name": "Python 3 (ipykernel)",
   "language": "python",
   "name": "python3"
  },
  "language_info": {
   "codemirror_mode": {
    "name": "ipython",
    "version": 3
   },
   "file_extension": ".py",
   "mimetype": "text/x-python",
   "name": "python",
   "nbconvert_exporter": "python",
   "pygments_lexer": "ipython3",
   "version": "3.12.3"
  }
 },
 "nbformat": 4,
 "nbformat_minor": 5
}
