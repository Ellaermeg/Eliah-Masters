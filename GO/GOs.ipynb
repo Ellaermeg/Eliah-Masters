{
 "cells": [
  {
   "cell_type": "code",
   "execution_count": 2,
   "id": "6c9589ae-4e09-4db5-ab9a-3c75c48785c5",
   "metadata": {
    "tags": []
   },
   "outputs": [
    {
     "name": "stdout",
     "output_type": "stream",
     "text": [
      "['c:\\\\Users\\\\eliah\\\\Documents\\\\Master\\\\Eliah-Masters\\\\GO', 'C:\\\\Program Files\\\\WindowsApps\\\\PythonSoftwareFoundation.Python.3.12_3.12.1008.0_x64__qbz5n2kfra8p0\\\\python312.zip', 'C:\\\\Program Files\\\\WindowsApps\\\\PythonSoftwareFoundation.Python.3.12_3.12.1008.0_x64__qbz5n2kfra8p0\\\\DLLs', 'C:\\\\Program Files\\\\WindowsApps\\\\PythonSoftwareFoundation.Python.3.12_3.12.1008.0_x64__qbz5n2kfra8p0\\\\Lib', 'C:\\\\Program Files\\\\WindowsApps\\\\PythonSoftwareFoundation.Python.3.12_3.12.1008.0_x64__qbz5n2kfra8p0', '', 'C:\\\\Users\\\\eliah\\\\AppData\\\\Local\\\\Packages\\\\PythonSoftwareFoundation.Python.3.12_qbz5n2kfra8p0\\\\LocalCache\\\\local-packages\\\\Python312\\\\site-packages', 'C:\\\\Users\\\\eliah\\\\AppData\\\\Local\\\\Packages\\\\PythonSoftwareFoundation.Python.3.12_qbz5n2kfra8p0\\\\LocalCache\\\\local-packages\\\\Python312\\\\site-packages\\\\win32', 'C:\\\\Users\\\\eliah\\\\AppData\\\\Local\\\\Packages\\\\PythonSoftwareFoundation.Python.3.12_qbz5n2kfra8p0\\\\LocalCache\\\\local-packages\\\\Python312\\\\site-packages\\\\win32\\\\lib', 'C:\\\\Users\\\\eliah\\\\AppData\\\\Local\\\\Packages\\\\PythonSoftwareFoundation.Python.3.12_qbz5n2kfra8p0\\\\LocalCache\\\\local-packages\\\\Python312\\\\site-packages\\\\Pythonwin', 'C:\\\\Program Files\\\\WindowsApps\\\\PythonSoftwareFoundation.Python.3.12_3.12.1008.0_x64__qbz5n2kfra8p0\\\\Lib\\\\site-packages', '../Data_Feature', '../Datasets']\n"
     ]
    }
   ],
   "source": [
    "import sys\n",
    "sys.path.append('../Data_Feature')\n",
    "sys.path.append('../Datasets')\n",
    "print(sys.path)\n",
    "import numpy as np\n",
    "import os\n",
    "import seaborn as sns\n",
    "from scipy.stats import pearsonr\n",
    "import pandas as pd\n",
    "import matplotlib.pyplot as plt\n",
    "import matplotlib.transforms as transforms\n",
    "from sklearn.linear_model import LogisticRegression, LinearRegression\n",
    "from sklearn.svm import SVC\n",
    "from sklearn.ensemble import RandomForestClassifier\n",
    "from sklearn.model_selection import train_test_split, cross_val_score, GridSearchCV, StratifiedKFold\n",
    "from sklearn.naive_bayes import MultinomialNB, GaussianNB, BernoulliNB # or GaussianNB if your data is normalized and continuous\n",
    "from sklearn.metrics import accuracy_score, confusion_matrix, classification_report, precision_score, recall_score, f1_score, ConfusionMatrixDisplay, make_scorer, matthews_corrcoef\n",
    "from sklearn.feature_selection import VarianceThreshold, SelectKBest, f_classif\n",
    "from sklearn.pipeline import Pipeline\n",
    "from sklearn.preprocessing import LabelEncoder \n",
    "from sklearn.preprocessing import MinMaxScaler\n",
    "from sklearn.utils import resample\n",
    "import zipfile \n",
    "from bioservices import KEGG\n",
    "from K_func import translate_ko_terms"
   ]
  },
  {
   "cell_type": "code",
   "execution_count": 18,
   "id": "2754c2fa-980d-4ce7-84c0-73a151ba9eca",
   "metadata": {
    "tags": []
   },
   "outputs": [
    {
     "name": "stdout",
     "output_type": "stream",
     "text": [
      "0       facultative\n",
      "1         anaerobic\n",
      "2           aerobic\n",
      "3           aerobic\n",
      "4         anaerobic\n",
      "           ...     \n",
      "3404        aerobic\n",
      "3405    facultative\n",
      "3406        aerobic\n",
      "3407    facultative\n",
      "3408        aerobic\n",
      "Name: oxygen, Length: 3409, dtype: object\n"
     ]
    }
   ],
   "source": [
    "# Reads and processes GO terms\n",
    "os.chdir(\"../Datasets\")\n",
    "zip_file_path_GO = 'terms_GO.zip'\n",
    "csv_file_name_GO = 'terms_GO.csv'\n",
    "zip_file_path_traits = 'reducedDataset.zip'\n",
    "csv_file_name_traits = 'reducedDataset.csv'\n",
    "\n",
    "# Read and preprocess KO terms\n",
    "with zipfile.ZipFile(zip_file_path_GO, 'r') as zip_ref:\n",
    "    with zip_ref.open(csv_file_name_GO) as file:\n",
    "        GOs = pd.read_csv(file, index_col=0)\n",
    "\n",
    "\n",
    "GOs['value'] = 1\n",
    "X = GOs.pivot_table(index='key', columns='GO', values='value', fill_value=0)\n",
    "#print(X.head())\n",
    "\n",
    "\n",
    "# Read and preprocess traits data\n",
    "with zipfile.ZipFile(zip_file_path_traits, 'r') as zip_ref:\n",
    "    with zip_ref.open(csv_file_name_traits) as file:\n",
    "        traits = pd.read_csv(file, sep=';')\n",
    "traits['oxygen'] = traits['oxygen'].str.lower()\n",
    "\n",
    "print(traits[\"oxygen\"])\n"
   ]
  },
  {
   "cell_type": "code",
   "execution_count": 4,
   "id": "f1c851ec-c281-46ca-9fc6-8f76a426744a",
   "metadata": {
    "tags": []
   },
   "outputs": [],
   "source": [
    "# Processes data for traits.\n",
    "traits = pd.read_csv('reducedDataset.csv', sep=';')\n",
    "# The missing values for the oxygen column are removed and then the keys are grouped together\n",
    "y = traits.dropna(subset=['oxygen']).groupby('key').agg({'oxygen': lambda x: x.value_counts().index[0]})"
   ]
  },
  {
   "cell_type": "code",
   "execution_count": 5,
   "id": "86061264-df47-43dc-af7b-703a2e030ac9",
   "metadata": {
    "tags": []
   },
   "outputs": [],
   "source": [
    "# Finds all the common keys between X and Y due to descrepancies adter the removal of empty oxygen values\n",
    "common_keys = X.index.intersection(y.index)"
   ]
  },
  {
   "cell_type": "code",
   "execution_count": 6,
   "metadata": {},
   "outputs": [],
   "source": [
    "# Align X and Y based on common keys\n",
    "X_aligned = X.loc[common_keys]\n",
    "Y = y.loc[common_keys].values.ravel()\n",
    "# Ensures X and Y are aligned\n",
    "assert X_aligned.shape[0] == len(Y), \"X and Y are not aligned\""
   ]
  },
  {
   "cell_type": "code",
   "execution_count": 76,
   "metadata": {},
   "outputs": [],
   "source": [
    "clf = svm.SVC()\n",
    "clf.fit(X_aligned,Y)"
   ]
  },
  {
   "cell_type": "code",
   "execution_count": 7,
   "metadata": {},
   "outputs": [
    {
     "name": "stdout",
     "output_type": "stream",
     "text": [
      "Shape of X: (3255, 14002)\n",
      "Shape of Y: (3255,)\n"
     ]
    }
   ],
   "source": [
    "print(\"Shape of X:\", X_aligned.shape)\n",
    "print(\"Shape of Y:\", Y.shape)\n"
   ]
  },
  {
   "cell_type": "code",
   "execution_count": null,
   "metadata": {},
   "outputs": [],
   "source": []
  }
 ],
 "metadata": {
  "kernelspec": {
   "display_name": "Python 3 (ipykernel)",
   "language": "python",
   "name": "python3"
  },
  "language_info": {
   "codemirror_mode": {
    "name": "ipython",
    "version": 3
   },
   "file_extension": ".py",
   "mimetype": "text/x-python",
   "name": "python",
   "nbconvert_exporter": "python",
   "pygments_lexer": "ipython3",
   "version": "3.12.3"
  }
 },
 "nbformat": 4,
 "nbformat_minor": 5
}
