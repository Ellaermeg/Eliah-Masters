{
 "cells": [
  {
   "cell_type": "code",
   "execution_count": 2,
   "metadata": {},
   "outputs": [],
   "source": [
    "from bioservices import KEGG\n",
    "kegg = KEGG()\n",
    "\n",
    "def translate_ko_terms(ko_terms):\n",
    "    ko_names = {}\n",
    "    for ko in ko_terms:\n",
    "        try:\n",
    "            info = kegg.get(ko)  # Retrieve information for the KO term\n",
    "            definition = kegg.parse(info)['DEFINITION']  # Parse the information to get the definition\n",
    "            ko_names[ko] = definition.split(';')[0]  # Sometimes definitions contain multiple parts; take the first\n",
    "        except Exception as e:\n",
    "            print(f\"Error retrieving information for {ko}: {e}\")\n",
    "            ko_names[ko] = ko  # Use the KO term itself if the name can't be retrieved\n",
    "    return ko_names"
   ]
  }
 ],
 "metadata": {
  "kernelspec": {
   "display_name": "Python 3",
   "language": "python",
   "name": "python3"
  },
  "language_info": {
   "codemirror_mode": {
    "name": "ipython",
    "version": 3
   },
   "file_extension": ".py",
   "mimetype": "text/x-python",
   "name": "python",
   "nbconvert_exporter": "python",
   "pygments_lexer": "ipython3",
   "version": "3.12.2"
  }
 },
 "nbformat": 4,
 "nbformat_minor": 2
}
