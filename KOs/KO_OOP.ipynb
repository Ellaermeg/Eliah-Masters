{
 "cells": [
  {
   "cell_type": "code",
   "execution_count": 9,
   "metadata": {},
   "outputs": [
    {
     "name": "stdout",
     "output_type": "stream",
     "text": [
      "['c:\\\\Users\\\\eliah\\\\Documents\\\\Master\\\\Eliah-Masters\\\\KOs', 'C:\\\\Program Files\\\\WindowsApps\\\\PythonSoftwareFoundation.Python.3.12_3.12.1008.0_x64__qbz5n2kfra8p0\\\\python312.zip', 'C:\\\\Program Files\\\\WindowsApps\\\\PythonSoftwareFoundation.Python.3.12_3.12.1008.0_x64__qbz5n2kfra8p0\\\\DLLs', 'C:\\\\Program Files\\\\WindowsApps\\\\PythonSoftwareFoundation.Python.3.12_3.12.1008.0_x64__qbz5n2kfra8p0\\\\Lib', 'C:\\\\Program Files\\\\WindowsApps\\\\PythonSoftwareFoundation.Python.3.12_3.12.1008.0_x64__qbz5n2kfra8p0', '', 'C:\\\\Users\\\\eliah\\\\AppData\\\\Local\\\\Packages\\\\PythonSoftwareFoundation.Python.3.12_qbz5n2kfra8p0\\\\LocalCache\\\\local-packages\\\\Python312\\\\site-packages', 'C:\\\\Users\\\\eliah\\\\AppData\\\\Local\\\\Packages\\\\PythonSoftwareFoundation.Python.3.12_qbz5n2kfra8p0\\\\LocalCache\\\\local-packages\\\\Python312\\\\site-packages\\\\win32', 'C:\\\\Users\\\\eliah\\\\AppData\\\\Local\\\\Packages\\\\PythonSoftwareFoundation.Python.3.12_qbz5n2kfra8p0\\\\LocalCache\\\\local-packages\\\\Python312\\\\site-packages\\\\win32\\\\lib', 'C:\\\\Users\\\\eliah\\\\AppData\\\\Local\\\\Packages\\\\PythonSoftwareFoundation.Python.3.12_qbz5n2kfra8p0\\\\LocalCache\\\\local-packages\\\\Python312\\\\site-packages\\\\Pythonwin', 'C:\\\\Program Files\\\\WindowsApps\\\\PythonSoftwareFoundation.Python.3.12_3.12.1008.0_x64__qbz5n2kfra8p0\\\\Lib\\\\site-packages', '../Data_Feature', '../Datasets', '../Data_Feature', '../Datasets', '../Data_Feature', '../Datasets', '../Data_Feature', '../Datasets', '../Data_Feature', '../Datasets', '../Data_Feature', '../Datasets', '../Data_Feature', '../Datasets', '../Data_Feature', '../Datasets', '../Data_Feature', '../Datasets', '../Data_Feature', '../Datasets']\n",
      "c:\\Users\\eliah\\Documents\\Master\\Eliah-Masters\\Datasets\n",
      "Found zip file at: ../Datasets\\terms_KO.zip\n",
      "pltf\n"
     ]
    },
    {
     "ename": "FileNotFoundError",
     "evalue": "[Errno 2] No such file or directory: 'traits_KO.zip'",
     "output_type": "error",
     "traceback": [
      "\u001b[1;31m---------------------------------------------------------------------------\u001b[0m",
      "\u001b[1;31mFileNotFoundError\u001b[0m                         Traceback (most recent call last)",
      "Cell \u001b[1;32mIn[9], line 44\u001b[0m\n\u001b[0;32m     41\u001b[0m \u001b[38;5;66;03m# Load data\u001b[39;00m\n\u001b[0;32m     43\u001b[0m ko_terms_data \u001b[38;5;241m=\u001b[39m ko_processor\u001b[38;5;241m.\u001b[39mload_data_from_zip(ko_processor\u001b[38;5;241m.\u001b[39mterms_zip_path, ko_processor\u001b[38;5;241m.\u001b[39mterms_csv_path)\n\u001b[1;32m---> 44\u001b[0m ko_traits_data \u001b[38;5;241m=\u001b[39m \u001b[43mko_processor\u001b[49m\u001b[38;5;241;43m.\u001b[39;49m\u001b[43mload_data_from_zip\u001b[49m\u001b[43m(\u001b[49m\u001b[43mko_processor\u001b[49m\u001b[38;5;241;43m.\u001b[39;49m\u001b[43mtraits_zip_path\u001b[49m\u001b[43m,\u001b[49m\u001b[43m \u001b[49m\u001b[43mko_processor\u001b[49m\u001b[38;5;241;43m.\u001b[39;49m\u001b[43mtraits_csv_path\u001b[49m\u001b[43m)\u001b[49m\n\u001b[0;32m     46\u001b[0m \u001b[38;5;66;03m# Process data\u001b[39;00m\n\u001b[0;32m     47\u001b[0m processed_ko_terms \u001b[38;5;241m=\u001b[39m ko_processor\u001b[38;5;241m.\u001b[39mpreprocess_terms(ko_terms_data)\n",
      "File \u001b[1;32mc:\\Users\\eliah\\Documents\\Master\\Eliah-Masters\\KOs\\../Data_Feature\\Object_oriented_dataprocess.py:35\u001b[0m, in \u001b[0;36mDataProcessor.load_data_from_zip\u001b[1;34m(self, zip_path, csv_path)\u001b[0m\n\u001b[0;32m     34\u001b[0m \u001b[38;5;28;01mdef\u001b[39;00m \u001b[38;5;21mload_data_from_zip\u001b[39m(\u001b[38;5;28mself\u001b[39m, zip_path, csv_path):\n\u001b[1;32m---> 35\u001b[0m     \u001b[38;5;28;01mwith\u001b[39;00m \u001b[43mzipfile\u001b[49m\u001b[38;5;241;43m.\u001b[39;49m\u001b[43mZipFile\u001b[49m\u001b[43m(\u001b[49m\u001b[43mzip_path\u001b[49m\u001b[43m,\u001b[49m\u001b[43m \u001b[49m\u001b[38;5;124;43m'\u001b[39;49m\u001b[38;5;124;43mr\u001b[39;49m\u001b[38;5;124;43m'\u001b[39;49m\u001b[43m)\u001b[49m \u001b[38;5;28;01mas\u001b[39;00m zip_ref:\n\u001b[0;32m     36\u001b[0m         \u001b[38;5;28;01mwith\u001b[39;00m zip_ref\u001b[38;5;241m.\u001b[39mopen(csv_path) \u001b[38;5;28;01mas\u001b[39;00m file:\n\u001b[0;32m     37\u001b[0m             data \u001b[38;5;241m=\u001b[39m pd\u001b[38;5;241m.\u001b[39mread_csv(file, index_col\u001b[38;5;241m=\u001b[39m\u001b[38;5;241m0\u001b[39m)\n",
      "File \u001b[1;32mC:\\Program Files\\WindowsApps\\PythonSoftwareFoundation.Python.3.12_3.12.1008.0_x64__qbz5n2kfra8p0\\Lib\\zipfile\\__init__.py:1331\u001b[0m, in \u001b[0;36mZipFile.__init__\u001b[1;34m(self, file, mode, compression, allowZip64, compresslevel, strict_timestamps, metadata_encoding)\u001b[0m\n\u001b[0;32m   1329\u001b[0m \u001b[38;5;28;01mwhile\u001b[39;00m \u001b[38;5;28;01mTrue\u001b[39;00m:\n\u001b[0;32m   1330\u001b[0m     \u001b[38;5;28;01mtry\u001b[39;00m:\n\u001b[1;32m-> 1331\u001b[0m         \u001b[38;5;28mself\u001b[39m\u001b[38;5;241m.\u001b[39mfp \u001b[38;5;241m=\u001b[39m \u001b[43mio\u001b[49m\u001b[38;5;241;43m.\u001b[39;49m\u001b[43mopen\u001b[49m\u001b[43m(\u001b[49m\u001b[43mfile\u001b[49m\u001b[43m,\u001b[49m\u001b[43m \u001b[49m\u001b[43mfilemode\u001b[49m\u001b[43m)\u001b[49m\n\u001b[0;32m   1332\u001b[0m     \u001b[38;5;28;01mexcept\u001b[39;00m \u001b[38;5;167;01mOSError\u001b[39;00m:\n\u001b[0;32m   1333\u001b[0m         \u001b[38;5;28;01mif\u001b[39;00m filemode \u001b[38;5;129;01min\u001b[39;00m modeDict:\n",
      "\u001b[1;31mFileNotFoundError\u001b[0m: [Errno 2] No such file or directory: 'traits_KO.zip'"
     ]
    }
   ],
   "source": [
    "import sys\n",
    "sys.path.append('../Data_Feature')\n",
    "sys.path.append('../Datasets')\n",
    "print(sys.path)\n",
    "import numpy as np\n",
    "import os\n",
    "import seaborn as sns\n",
    "from scipy.stats import pearsonr\n",
    "import pandas as pd\n",
    "import matplotlib.pyplot as plt\n",
    "import matplotlib.transforms as transforms\n",
    "from sklearn.linear_model import LogisticRegression, LinearRegression\n",
    "from sklearn.svm import SVC\n",
    "from sklearn.ensemble import RandomForestClassifier\n",
    "from sklearn.model_selection import train_test_split, cross_val_score, GridSearchCV, StratifiedKFold\n",
    "from sklearn.naive_bayes import MultinomialNB, GaussianNB, BernoulliNB # or GaussianNB if your data is normalized and continuous\n",
    "from sklearn.metrics import accuracy_score, confusion_matrix, classification_report, precision_score, recall_score, f1_score, ConfusionMatrixDisplay, make_scorer, matthews_corrcoef\n",
    "from sklearn.feature_selection import VarianceThreshold, SelectKBest, f_classif\n",
    "from sklearn.pipeline import Pipeline\n",
    "from sklearn.preprocessing import LabelEncoder \n",
    "from sklearn.preprocessing import MinMaxScaler\n",
    "from sklearn.utils import resample\n",
    "import zipfile \n",
    "from bioservices import KEGG\n",
    "from K_func import translate_ko_terms\n",
    "from Object_oriented_dataprocess import DataProcessor, KOProcessor, ModelPipeline\n",
    "\n",
    "print(os.getcwd())\n",
    "\n",
    "zip_path = os.path.join('../Datasets', 'terms_KO.zip')\n",
    "if os.path.exists(zip_path):\n",
    "    print(f\"Found zip file at: {zip_path}\")\n",
    "else:\n",
    "    print(f\"Zip file not found at: {zip_path}\")\n",
    "\n",
    "os.chdir('../Datasets')\n",
    "print(\"pltf\")\n",
    "\n",
    "ko_processor = KOProcessor(terms_zip_path='../Datasets/terms_KO.zip', terms_csv_path='terms_KO.csv', traits_zip_path='../Datasets/reducedDataset.zip', traits_csv_path=\"../Datasets/reducedDataset.csv\")\n",
    "\n",
    "# Load data\n",
    "\n",
    "ko_terms_data = ko_processor.load_data_from_zip(ko_processor.terms_zip_path, ko_processor.terms_csv_path)\n",
    "ko_traits_data = ko_processor.load_data_from_zip(ko_processor.traits_zip_path, ko_processor.traits_csv_path)\n",
    "\n",
    "# Process data\n",
    "processed_ko_terms = ko_processor.preprocess_terms(ko_terms_data)\n",
    "processed_ko_traits = ko_processor.preprocess_traits_oxygen(ko_traits_data)\n",
    "\n",
    "# ALIGN DATA\n",
    "X_aligned, Y_aligned = ko_processor.align_data(processed_ko_terms, processed_ko_traits)"
   ]
  }
 ],
 "metadata": {
  "kernelspec": {
   "display_name": "Python 3",
   "language": "python",
   "name": "python3"
  },
  "language_info": {
   "codemirror_mode": {
    "name": "ipython",
    "version": 3
   },
   "file_extension": ".py",
   "mimetype": "text/x-python",
   "name": "python",
   "nbconvert_exporter": "python",
   "pygments_lexer": "ipython3",
   "version": "3.12.3"
  }
 },
 "nbformat": 4,
 "nbformat_minor": 2
}
