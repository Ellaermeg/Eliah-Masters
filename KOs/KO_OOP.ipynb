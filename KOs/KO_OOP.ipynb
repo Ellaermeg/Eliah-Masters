{
 "cells": [
  {
   "cell_type": "code",
   "execution_count": 1,
   "metadata": {},
   "outputs": [
    {
     "name": "stderr",
     "output_type": "stream",
     "text": [
      "C:\\Users\\eliah\\AppData\\Local\\Temp\\ipykernel_2020\\2755407905.py:3: DeprecationWarning: \n",
      "Pyarrow will become a required dependency of pandas in the next major release of pandas (pandas 3.0),\n",
      "(to allow more performant data types, such as the Arrow string type, and better interoperability with other libraries)\n",
      "but was not found to be installed on your system.\n",
      "If this would cause problems for you,\n",
      "please provide us feedback at https://github.com/pandas-dev/pandas/issues/54466\n",
      "        \n",
      "  import pandas as pd\n"
     ]
    },
    {
     "ename": "ModuleNotFoundError",
     "evalue": "No module named 'K_func'",
     "output_type": "error",
     "traceback": [
      "\u001b[1;31m---------------------------------------------------------------------------\u001b[0m",
      "\u001b[1;31mModuleNotFoundError\u001b[0m                       Traceback (most recent call last)",
      "Cell \u001b[1;32mIn[1], line 15\u001b[0m\n\u001b[0;32m     13\u001b[0m \u001b[38;5;28;01mimport\u001b[39;00m \u001b[38;5;21;01mzipfile\u001b[39;00m\n\u001b[0;32m     14\u001b[0m \u001b[38;5;28;01mfrom\u001b[39;00m \u001b[38;5;21;01mbioservices\u001b[39;00m \u001b[38;5;28;01mimport\u001b[39;00m KEGG\n\u001b[1;32m---> 15\u001b[0m \u001b[38;5;28;01mfrom\u001b[39;00m \u001b[38;5;21;01mK_func\u001b[39;00m \u001b[38;5;28;01mimport\u001b[39;00m translate_ko_terms\n\u001b[0;32m     17\u001b[0m get_ipython()\u001b[38;5;241m.\u001b[39msystem(\u001b[38;5;124m'\u001b[39m\u001b[38;5;124mcd\u001b[39m\u001b[38;5;124m'\u001b[39m)\n\u001b[0;32m     18\u001b[0m \u001b[38;5;66;03m# Initialize the processor with file paths\u001b[39;00m\n",
      "\u001b[1;31mModuleNotFoundError\u001b[0m: No module named 'K_func'"
     ]
    }
   ],
   "source": [
    "import numpy as np\n",
    "import os\n",
    "import pandas as pd\n",
    "import matplotlib.pyplot as plt\n",
    "from sklearn.svm import SVC\n",
    "from sklearn.ensemble import RandomForestClassifier\n",
    "from sklearn.model_selection import train_test_split, cross_val_score, GridSearchCV, StratifiedKFold\n",
    "from sklearn.naive_bayes import MultinomialNB, GaussianNB # or GaussianNB if your data is normalized and continuous\n",
    "from sklearn.metrics import accuracy_score, confusion_matrix, classification_report, precision_score, recall_score, f1_score, ConfusionMatrixDisplay, make_scorer\n",
    "from sklearn.feature_selection import VarianceThreshold, SelectKBest, f_classif\n",
    "from sklearn.pipeline import Pipeline\n",
    "from sklearn.preprocessing import LabelEncoder\n",
    "import zipfile\n",
    "from bioservices import KEGG\n",
    "from Data_Feature.K_func import translate_ko_terms\n",
    "from Data_Feature.Data_prep_KOs import DataProcessor, KOProcessor\n",
    "\n",
    "!cd\n",
    "# Initialize the processor with file paths\n",
    "processor = KOProcessor('terms_KO.zip', 'terms_KO.csv', 'reducedDataset.zip', 'reducedDataset.csv')\n",
    "\n",
    "# Load data\n",
    "terms_data = processor.load_data_from_zip(processor.terms_zip_path, processor.terms_csv_path)\n",
    "traits_data = processor.load_data_from_zip(processor.traits_zip_path, processor.traits_csv_path)\n",
    "\n",
    "# Preprocess data\n",
    "X_terms_filtered = processor.preprocess_terms(terms_data)\n",
    "y_preprocessed = processor.preprocess_traits_oxygen(traits_data)\n",
    "\n",
    "# Align X and Y based on common keys \n",
    "common_keys = X_terms_filtered.index.intersection(y_preprocessed.index)\n",
    "X_aligned = X_terms_filtered.loc[common_keys]\n",
    "Y_aligned = y_preprocessed.loc[common_keys].values.ravel()\n",
    "\n",
    "# Ensures X_aligned and Y_aligned are aligned\n",
    "assert X_aligned.shape[0] == len(Y_aligned), \"X and Y are not aligned\""
   ]
  }
 ],
 "metadata": {
  "kernelspec": {
   "display_name": "Python 3",
   "language": "python",
   "name": "python3"
  },
  "language_info": {
   "codemirror_mode": {
    "name": "ipython",
    "version": 3
   },
   "file_extension": ".py",
   "mimetype": "text/x-python",
   "name": "python",
   "nbconvert_exporter": "python",
   "pygments_lexer": "ipython3",
   "version": "3.12.2"
  }
 },
 "nbformat": 4,
 "nbformat_minor": 2
}
