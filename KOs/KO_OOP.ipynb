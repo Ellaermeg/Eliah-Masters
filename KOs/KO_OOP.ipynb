{
 "cells": [
  {
   "cell_type": "code",
   "execution_count": null,
   "metadata": {},
   "outputs": [],
   "source": [
    "import sys\n",
    "sys.path.append('../Data_Feature')\n",
    "sys.path.append('../Datasets')\n",
    "print(sys.path)\n",
    "import numpy as np\n",
    "import os\n",
    "import seaborn as sns\n",
    "from scipy.stats import pearsonr\n",
    "import pandas as pd\n",
    "import matplotlib.pyplot as plt\n",
    "import matplotlib.transforms as transforms\n",
    "from sklearn.linear_model import LogisticRegression, LinearRegression\n",
    "from sklearn.svm import SVC\n",
    "from sklearn.ensemble import RandomForestClassifier\n",
    "from sklearn.model_selection import train_test_split, cross_val_score, GridSearchCV, StratifiedKFold\n",
    "from sklearn.naive_bayes import MultinomialNB, GaussianNB, BernoulliNB # or GaussianNB if your data is normalized and continuous\n",
    "from sklearn.metrics import accuracy_score, confusion_matrix, classification_report, precision_score, recall_score, f1_score, ConfusionMatrixDisplay, make_scorer, matthews_corrcoef\n",
    "from sklearn.feature_selection import VarianceThreshold, SelectKBest, f_classif\n",
    "from sklearn.pipeline import Pipeline\n",
    "from sklearn.preprocessing import LabelEncoder \n",
    "from sklearn.preprocessing import MinMaxScaler\n",
    "from sklearn.utils import resample\n",
    "import zipfile \n",
    "from bioservices import KEGG\n",
    "from K_func import translate_ko_terms\n",
    "from Object_oriented_dataprocess import DataProcessor, KOProcessor, ModelPipeline\n",
    "\n",
    "print(os.getcwd())\n",
    "\n",
    "zip_path = os.path.join('../Datasets', 'terms_KO.zip')\n",
    "zip_path1 = os.path.join('../Datasets', 'reducedDataset.zip')\n",
    "\n",
    "for i in zip_path, zip_path1:\n",
    "    if os.path.exists(i):\n",
    "        print(f\"Found zip file at: {i}\")\n",
    "    else:\n",
    "        print(f\"Zip file not found at: {i}\")\n",
    "\n",
    "os.chdir('../Datasets')\n",
    "\n",
    "ko_processor = KOProcessor(terms_zip_path='../Datasets/terms_KO.zip', terms_csv_path='terms_KO.csv', traits_zip_path='../Datasets/reducedDataset.zip', traits_csv_path=\"reducedDataset.csv\")\n",
    "\n",
    "# Load data\n",
    "\n",
    "ko_terms_data = ko_processor.load_data_from_zip(ko_processor.terms_zip_path, ko_processor.terms_csv_path)\n",
    "print(\"im working ###\")\n",
    "ko_traits_data = ko_processor.load_data_from_zip(ko_processor.traits_zip_path, ko_processor.traits_csv_path)\n",
    "\n",
    "# Process data\n",
    "processed_ko_terms = ko_processor.preprocess_terms(ko_terms_data)\n",
    "processed_ko_traits = ko_processor.preprocess_traits_oxygen(ko_traits_data)\n",
    "\n",
    "# ALIGN DATA\n",
    "X_aligned, Y_aligned = ko_processor.align_data(processed_ko_terms, processed_ko_traits)"
   ]
  }
 ],
 "metadata": {
  "kernelspec": {
   "display_name": "Python 3",
   "language": "python",
   "name": "python3"
  },
  "language_info": {
   "codemirror_mode": {
    "name": "ipython",
    "version": 3
   },
   "file_extension": ".py",
   "mimetype": "text/x-python",
   "name": "python",
   "nbconvert_exporter": "python",
   "pygments_lexer": "ipython3",
   "version": "3.12.3"
  }
 },
 "nbformat": 4,
 "nbformat_minor": 2
}
