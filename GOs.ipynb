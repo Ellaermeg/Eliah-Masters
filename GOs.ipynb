{
 "cells": [
  {
   "cell_type": "code",
   "execution_count": 2,
   "id": "6c9589ae-4e09-4db5-ab9a-3c75c48785c5",
   "metadata": {
    "tags": []
   },
   "outputs": [],
   "source": [
    "import pandas as pd\n",
    "from sklearn import svm"
   ]
  },
  {
   "cell_type": "code",
   "execution_count": 3,
   "id": "2754c2fa-980d-4ce7-84c0-73a151ba9eca",
   "metadata": {
    "tags": []
   },
   "outputs": [],
   "source": [
    "# Reads and processes GO terms\n",
    "GOs = pd.read_csv('terms_GO.csv', index_col=0)\n",
    "GOs['value'] = 1\n",
    "X = GOs.pivot_table(index='key', columns='GO', values='value', fill_value=0)"
   ]
  },
  {
   "cell_type": "code",
   "execution_count": 4,
   "id": "f1c851ec-c281-46ca-9fc6-8f76a426744a",
   "metadata": {
    "tags": []
   },
   "outputs": [],
   "source": [
    "# Processes data for traits.\n",
    "traits = pd.read_csv('reducedDataset.csv', sep=';')\n",
    "# The missing values for the oxygen column are removed and then the keys are grouped together\n",
    "y = traits.dropna(subset=['oxygen']).groupby('key').agg({'oxygen': lambda x: x.value_counts().index[0]})"
   ]
  },
  {
   "cell_type": "code",
   "execution_count": 5,
   "id": "86061264-df47-43dc-af7b-703a2e030ac9",
   "metadata": {
    "tags": []
   },
   "outputs": [],
   "source": [
    "# Finds all the common keys between X and Y due to descrepancies adter the removal of empty oxygen values\n",
    "common_keys = X.index.intersection(y.index)"
   ]
  },
  {
   "cell_type": "code",
   "execution_count": 6,
   "metadata": {},
   "outputs": [],
   "source": [
    "# Align X and Y based on common keys\n",
    "X_aligned = X.loc[common_keys]\n",
    "Y = y.loc[common_keys].values.ravel()\n",
    "# Ensures X and Y are aligned\n",
    "assert X_aligned.shape[0] == len(Y), \"X and Y are not aligned\""
   ]
  },
  {
   "cell_type": "code",
   "execution_count": 76,
   "metadata": {},
   "outputs": [],
   "source": [
    "clf = svm.SVC()\n",
    "clf.fit(X_aligned,Y)"
   ]
  },
  {
   "cell_type": "code",
   "execution_count": 7,
   "metadata": {},
   "outputs": [
    {
     "name": "stdout",
     "output_type": "stream",
     "text": [
      "Shape of X: (3255, 14002)\n",
      "Shape of Y: (3255,)\n"
     ]
    }
   ],
   "source": [
    "print(\"Shape of X:\", X_aligned.shape)\n",
    "print(\"Shape of Y:\", Y.shape)\n"
   ]
  },
  {
   "cell_type": "code",
   "execution_count": null,
   "metadata": {},
   "outputs": [],
   "source": []
  }
 ],
 "metadata": {
  "kernelspec": {
   "display_name": "Python 3 (ipykernel)",
   "language": "python",
   "name": "python3"
  },
  "language_info": {
   "codemirror_mode": {
    "name": "ipython",
    "version": 3
   },
   "file_extension": ".py",
   "mimetype": "text/x-python",
   "name": "python",
   "nbconvert_exporter": "python",
   "pygments_lexer": "ipython3",
   "version": "3.12.0"
  }
 },
 "nbformat": 4,
 "nbformat_minor": 5
}
