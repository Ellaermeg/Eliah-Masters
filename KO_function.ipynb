{
 "cells": [
  {
   "cell_type": "code",
   "execution_count": null,
   "metadata": {},
   "outputs": [],
   "source": [
    "from bioservices import KEGG\n",
    "kegg = KEGG()\n",
    "\n",
    "def translate_ko_terms(ko_terms):\n",
    "    ko_names = {}\n",
    "    for ko in ko_terms:\n",
    "        try:\n",
    "            info = kegg.get(ko)  # Retrieve information for the KO term\n",
    "            definition = kegg.parse(info)['DEFINITION']  # Parse the information to get the definition\n",
    "            ko_names[ko] = definition.split(';')[0]  # Sometimes definitions contain multiple parts; take the first\n",
    "        except Exception as e:\n",
    "            print(f\"Error retrieving information for {ko}: {e}\")\n",
    "            ko_names[ko] = ko  # Use the KO term itself if the name can't be retrieved\n",
    "    return ko_names\n",
    "\n",
    "# Translate selected KO terms to their names\n",
    "selected_ko_terms_list = list(sorted_features)  # Assuming sorted_features contains your selected KO terms\n",
    "ko_names_mapping = translate_ko_terms(selected_ko_terms_list)\n"
   ]
  }
 ],
 "metadata": {
  "language_info": {
   "name": "python"
  }
 },
 "nbformat": 4,
 "nbformat_minor": 2
}
